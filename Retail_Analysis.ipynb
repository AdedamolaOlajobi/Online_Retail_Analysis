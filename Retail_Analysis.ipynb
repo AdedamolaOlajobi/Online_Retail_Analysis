{
 "cells": [
  {
   "cell_type": "code",
   "execution_count": null,
   "id": "382bb080-ded1-4af0-9915-d56e103aae56",
   "metadata": {
    "tags": []
   },
   "outputs": [],
   "source": [
    "import numpy as np\n",
    "import pandas as pd\n",
    "import matplotlib.pyplot as plt\n",
    "import seaborn as sns\n",
    "import matplotlib.ticker as ticker \n",
    "import geopandas as gpd\n",
    "import plotly.express as px\n",
    "import folium \n",
    "from sklearn.cluster import KMeans"
   ]
  },
  {
   "cell_type": "code",
   "execution_count": null,
   "id": "433325b6-c0b4-4c5f-ad02-830af1ed1c78",
   "metadata": {
    "tags": []
   },
   "outputs": [],
   "source": [
    "Retail = pd.read_csv('data/Online_retail.csv')\n",
    "Retail.head()"
   ]
  },
  {
   "cell_type": "markdown",
   "id": "c6ddd914-2495-4283-9ee9-794e3b07d02f",
   "metadata": {},
   "source": [
    "### 1. Exploratory Data Analysis"
   ]
  },
  {
   "cell_type": "code",
   "execution_count": null,
   "id": "61aa50f3-2d8c-46f7-a505-88ec64c75709",
   "metadata": {
    "tags": []
   },
   "outputs": [],
   "source": [
    "Retail.info()"
   ]
  },
  {
   "cell_type": "code",
   "execution_count": null,
   "id": "b553e61d-6015-4578-8923-9d7ce55abb6e",
   "metadata": {
    "tags": []
   },
   "outputs": [],
   "source": [
    "Retail.describe().transpose()"
   ]
  },
  {
   "cell_type": "code",
   "execution_count": null,
   "id": "d07fdd77-4db7-471e-b43a-803bddb0efce",
   "metadata": {
    "tags": []
   },
   "outputs": [],
   "source": [
    "Retail.shape"
   ]
  },
  {
   "cell_type": "code",
   "execution_count": null,
   "id": "3cbde9dd-32af-414e-904c-589d17e01723",
   "metadata": {
    "tags": []
   },
   "outputs": [],
   "source": [
    "Retail.columns"
   ]
  },
  {
   "cell_type": "code",
   "execution_count": null,
   "id": "7e4d1326-70d9-4bf0-8359-df886a89ccef",
   "metadata": {
    "tags": []
   },
   "outputs": [],
   "source": [
    "Retail['InvoiceDate']= pd.to_datetime(Retail['InvoiceDate'], format= '%m/%d/%y %H:%M')"
   ]
  },
  {
   "cell_type": "code",
   "execution_count": null,
   "id": "d6bc7768-aa35-49d4-b727-cc89f6dae511",
   "metadata": {
    "tags": []
   },
   "outputs": [],
   "source": [
    "##View countries in dataset\n",
    "Retail['Country'].value_counts()"
   ]
  },
  {
   "cell_type": "code",
   "execution_count": null,
   "id": "c4b4d991-384f-4659-811f-d6f1b2aa32d8",
   "metadata": {
    "tags": []
   },
   "outputs": [],
   "source": [
    "# Change country name\n",
    "Retail['Country'].replace({'EIRE': 'Ireland'}, inplace= True)"
   ]
  },
  {
   "cell_type": "code",
   "execution_count": null,
   "id": "532a6a2d-1ac0-40ee-b7bb-09095fa79810",
   "metadata": {
    "tags": []
   },
   "outputs": [],
   "source": [
    "## Check for missing values\n",
    "Retail.isnull().sum()"
   ]
  },
  {
   "cell_type": "code",
   "execution_count": null,
   "id": "3f87c1b7-c983-4f3e-b88a-c3805f8cad53",
   "metadata": {
    "tags": []
   },
   "outputs": [],
   "source": [
    "## Dealing with missing values \n",
    "## Data contains some missing customerid, due to information constraints, i chose to drop missing data \n",
    "\n",
    "Retail.dropna(subset='CustomerID',axis=0, inplace=True)\n"
   ]
  },
  {
   "cell_type": "code",
   "execution_count": null,
   "id": "7ed8ea0c-4a7c-4ff3-83a6-f1eb3d1045a8",
   "metadata": {
    "tags": []
   },
   "outputs": [],
   "source": [
    "Retail.isnull().sum()"
   ]
  },
  {
   "cell_type": "code",
   "execution_count": null,
   "id": "f25968f5-5d1b-4f18-9dfa-90971ed114b5",
   "metadata": {
    "tags": []
   },
   "outputs": [],
   "source": [
    "## Create Total purchase value \n",
    "\n",
    "Retail.eval('Purchase_Value = Quantity*UnitPrice', inplace=True)"
   ]
  },
  {
   "cell_type": "code",
   "execution_count": null,
   "id": "3048cd45-7130-4809-8485-692052794cd1",
   "metadata": {
    "tags": []
   },
   "outputs": [],
   "source": [
    "## Check for negative values in quantity(refund or returns)\n",
    "Retail[Retail['Quantity'] < 0].head()"
   ]
  },
  {
   "cell_type": "markdown",
   "id": "9eaf6ced-ac7a-4877-8b5a-4fdf1b71c743",
   "metadata": {},
   "source": [
    "### 2. Global Sales Analysis"
   ]
  },
  {
   "cell_type": "code",
   "execution_count": null,
   "id": "2fff7841-c25a-4504-b3bb-46606e11e22e",
   "metadata": {
    "tags": []
   },
   "outputs": [],
   "source": [
    "def sales_breakdown():\n",
    "    Total_sales = Retail.loc[Retail['Quantity'] > 0, 'Purchase_Value'].sum().round()\n",
    "    Refunds_returns = Retail.loc[Retail['Quantity'] < 0, 'Purchase_Value'].sum().round()\n",
    "    Total_sales_post_refund = Retail['Purchase_Value'].sum().round()\n",
    "    \n",
    "    print(f'Total sales: ${Total_sales}')\n",
    "    print(f'Total sales after refund : ${Total_sales_post_refund}')\n",
    "    print(f'Refund: ${Refunds_returns}')"
   ]
  },
  {
   "cell_type": "code",
   "execution_count": null,
   "id": "0d981ec6-01a9-4233-8762-b183268bd2a0",
   "metadata": {
    "jupyter": {
     "source_hidden": true
    },
    "tags": []
   },
   "outputs": [],
   "source": [
    "refunds= Retail[Retail['Quantity'] < 0]\n",
    "refunds.to_csv('refunds_data.csv', index=False)"
   ]
  },
  {
   "cell_type": "code",
   "execution_count": null,
   "id": "f104c9a5-ca23-413b-b556-83ee7effdd91",
   "metadata": {
    "tags": []
   },
   "outputs": [],
   "source": [
    "Retail.to_csv('Retail_data.csv', index= False)"
   ]
  },
  {
   "cell_type": "code",
   "execution_count": null,
   "id": "386b7fa2-2f59-4d36-9c08-6f2a4af70c68",
   "metadata": {
    "tags": []
   },
   "outputs": [],
   "source": [
    "sales_breakdown()"
   ]
  },
  {
   "cell_type": "code",
   "execution_count": null,
   "id": "75748683-af58-41b2-8feb-48a118afd47e",
   "metadata": {
    "tags": []
   },
   "outputs": [],
   "source": [
    "## Sales breakdown by country, top 5 and least 5 markets. \n",
    "\n",
    "Total_sales = Retail.groupby('Country')['Purchase_Value'].sum().reset_index()\n",
    "Top_5 = Total_sales.sort_values('Purchase_Value', ascending=False).head()\n",
    "Least_5 = Total_sales.sort_values('Purchase_Value', ascending=True).head()"
   ]
  },
  {
   "cell_type": "code",
   "execution_count": null,
   "id": "813d928e-652e-4e1d-81b7-0fc898299df7",
   "metadata": {
    "tags": []
   },
   "outputs": [],
   "source": [
    "## Visualisation top 5 countries\n",
    "\n",
    "plt.figure(figsize=(10,6))\n",
    "ax = sns.barplot(Top_5, x= 'Country', y= 'Purchase_Value')\n",
    "\n",
    "ax.yaxis.set_major_formatter(ticker.StrMethodFormatter('${x:,.0f}'))\n",
    "\n",
    "ax.grid(True, linestyle='--', alpha=0.5)\n",
    "\n",
    "for index, value in enumerate(Top_5['Purchase_Value']):\n",
    "    ax.text(index, value, f'${value:,.0f}', ha = 'center', va= 'bottom', weight= 'bold')\n",
    "\n",
    "plt.title('Top Countries By Sales', weight='bold')\n",
    "plt.xlabel('Countries')\n",
    "plt.ylabel('Sales value')\n",
    "plt.show()"
   ]
  },
  {
   "cell_type": "code",
   "execution_count": null,
   "id": "0488e86b-3952-4bbf-bdc3-026337d9afb8",
   "metadata": {
    "tags": []
   },
   "outputs": [],
   "source": [
    "## Visualisation Least 5 \n",
    "\n",
    "plt.figure(figsize=(10,6))\n",
    "ax1 = sns.barplot(Least_5, x= 'Country', y= 'Purchase_Value')\n",
    "\n",
    "ax1.yaxis.set_major_formatter(ticker.StrMethodFormatter('${x:,.0f}'))\n",
    "\n",
    "ax1.grid(True, linestyle='--', alpha=0.5)\n",
    "\n",
    "for index, value in enumerate(Least_5['Purchase_Value']):\n",
    "    ax1.text(index, value, f'${value:,.0f}', ha = 'center', va= 'bottom', weight= 'bold')\n",
    "\n",
    "plt.title('Least Performing Countries By Sales', weight='bold')\n",
    "plt.xlabel('Countries')\n",
    "plt.ylabel('Sales value')\n",
    "plt.show()"
   ]
  },
  {
   "cell_type": "code",
   "execution_count": null,
   "id": "28e00382-d482-42af-b071-c26d1f116295",
   "metadata": {
    "tags": []
   },
   "outputs": [],
   "source": [
    "## Sales by Quarter\n",
    "Quartely_sales = Retail.groupby(Retail['InvoiceDate'].dt.to_period('Q')).sum('Purchase_Value').reset_index()\n",
    "Quartely_sales['InvoiceDate'] = Quartely_sales['InvoiceDate'].astype(str)\n",
    "\n",
    "##Visualisation\n",
    "plt.figure(figsize=(10,6))\n",
    "ax2 = sns.lineplot(Quartely_sales, x= 'InvoiceDate',y = 'Purchase_Value', color ='red')\n",
    "ax2.yaxis.set_major_formatter(ticker.StrMethodFormatter('${x:,.0f}'))\n",
    "\n",
    "for index, value in enumerate(Quartely_sales['Purchase_Value']):\n",
    "    ax2.text(index,value, f'${value:,.0f}', ha='center', va ='bottom', weight ='bold', color ='blue')\n",
    "                              \n",
    "\n",
    "ax2.grid(True, linestyle='--', alpha=0.5)        \n",
    "plt.title('Quartely Performance', weight='bold')\n",
    "plt.xlabel('Quarters')\n",
    "plt.ylabel('Sales value')\n",
    "plt.show()"
   ]
  },
  {
   "cell_type": "code",
   "execution_count": null,
   "id": "4fdc1644-0f0a-4d63-82d3-4470238a175b",
   "metadata": {
    "tags": []
   },
   "outputs": [],
   "source": [
    "## Disaggregating further to see performance of top 5 excluding United Kingdom by quarter\n",
    "\n",
    "Retail['Quarter'] = Retail['InvoiceDate'].dt.to_period('Q')\n",
    "\n",
    "# Group by Country and Quarter, summing up Purchase_Value\n",
    "Quarterly_sales_by_country = Retail.groupby(['Country', 'Quarter']).sum('Purchase_Value').reset_index()\n",
    "Quarterly_sales_by_country['Quarter'] = Quarterly_sales_by_country['Quarter'].astype(str)\n",
    "\n",
    "\n",
    "Quarter_exc_Uk= Quarterly_sales_by_country[Quarterly_sales_by_country['Country'] != 'United Kingdom']\n",
    "Quarter_exc_Uk = Quarter_exc_Uk[Quarter_exc_Uk['Country'].isin(['Netherland','Australia','Ireland','Germany','France'])]\n",
    "Quarter_exc_Uk\n",
    "\n",
    "\n",
    "plt.figure(figsize=(10,6))\n",
    "ax3= sns.lineplot(Quarter_exc_Uk, x='Quarter', y='Purchase_Value', hue= 'Country')\n",
    "\n",
    "ax3.grid(True, linestyle='--', alpha=0.5)\n",
    "ax3.yaxis.set_major_formatter(ticker.StrMethodFormatter('${x:,.0f}'))\n",
    "\n",
    "ax.grid(True, linestyle='--', alpha=0.5)        \n",
    "plt.title('Quartely Performance', weight='bold')\n",
    "plt.xlabel('Quarters')\n",
    "plt.ylabel('Sales value')\n",
    "plt.show()"
   ]
  },
  {
   "cell_type": "code",
   "execution_count": null,
   "id": "53d5a71c-c250-4490-9b7f-f57b4fca45d4",
   "metadata": {
    "tags": []
   },
   "outputs": [],
   "source": [
    "#Top selling Products by Value\n",
    "Top_sellers = Retail.groupby('Description')['Purchase_Value'].sum().sort_values(ascending=False).head()\n",
    "\n",
    "# Top selling products by Quantity\n",
    "Top_quantity = Retail.groupby('Description')['Quantity'].sum().sort_values(ascending=False).head()\n"
   ]
  },
  {
   "cell_type": "code",
   "execution_count": null,
   "id": "99e35396-2fb1-4717-9c7b-4783b36cb2c3",
   "metadata": {
    "jupyter": {
     "source_hidden": true
    },
    "tags": []
   },
   "outputs": [],
   "source": [
    "# Load a GeoJSON file for world map (replace 'path/to/world.geojson' with your GeoJSON file)\n",
    "world_geojson = 'countries.geo.json'\n",
    "\n",
    "# Create a Folium map centered on the world\n",
    "m = folium.Map(location=[0, 0], zoom_start=2)\n",
    "\n",
    "# Add choropleth layer\n",
    "folium.Choropleth(\n",
    "    geo_data=world_geojson,\n",
    "    data=rr,\n",
    "    columns=['Country', 'Purchase_Value'],\n",
    "    key_on='feature.properties.name',\n",
    "    fill_color='YlGnBu',\n",
    "    fill_opacity=0.7,\n",
    "    line_opacity=0.2,\n",
    "    legend_name='Purchase Value'\n",
    ").add_to(m)\n",
    "\n",
    "# Display the map\n",
    "m"
   ]
  },
  {
   "cell_type": "code",
   "execution_count": null,
   "id": "4a3844c7-090a-45e5-ac67-1b7860ecb36b",
   "metadata": {
    "jupyter": {
     "source_hidden": true
    },
    "tags": []
   },
   "outputs": [],
   "source": [
    "# Plot the distribution using Seaborn\n",
    "plt.figure(figsize=(8, 6))\n",
    "sns.displot(Customer['Purchase_Value'], bins=10, kde=True, color='#3498db')\n",
    "plt.title('Distribution of Spending Score')\n",
    "plt.xlabel('Spending Score')\n",
    "plt.ylabel('Frequency')\n",
    "plt.grid(axis='y', linestyle='--', alpha=0.7)\n",
    "plt.show()"
   ]
  },
  {
   "cell_type": "markdown",
   "id": "79aad96b-7611-40f9-b626-3157b58e4f1b",
   "metadata": {
    "tags": []
   },
   "source": [
    "### 3. Customer Analysis: Creating Customer Segmentation Using Clusters\n"
   ]
  },
  {
   "cell_type": "code",
   "execution_count": null,
   "id": "4334ce7f-dda5-40b4-9a91-1b50b7ce0f89",
   "metadata": {},
   "outputs": [],
   "source": [
    "## Finding customer spend\n",
    "Customer = Retail.groupby(['CustomerID','Country'])[['Purchase_Value','Quantity']].sum().round(2).reset_index()\n",
    "\n",
    "#Top 5 customers by the value of their purchase\n",
    "Top_5_Customer = Customer.sort_values('Purchase_Value', ascending=False).head(5)\n",
    "\n",
    "##Top Customers in each country in our dataset\n",
    "Top_cus_countries= Customer.groupby('Country').apply(lambda group: group.nlargest(1, 'Purchase_Value')).reset_index(drop=True)\n"
   ]
  },
  {
   "cell_type": "code",
   "execution_count": null,
   "id": "9275fbac-b188-4aca-bfdb-0959455b577f",
   "metadata": {
    "tags": []
   },
   "outputs": [],
   "source": [
    "## To create the customer segmentation, we will apply a K-means model\n",
    "x = Customer[['Purchase_Value','Quantity']]\n"
   ]
  },
  {
   "cell_type": "code",
   "execution_count": null,
   "id": "c1730635-7b23-46c1-80b1-d68ff6e1f9d7",
   "metadata": {
    "tags": []
   },
   "outputs": [],
   "source": [
    "fig=plt.figure(figsize=(10,6))\n",
    "ax=sns.scatterplot(x=Customer[\"Quantity\"],y=Customer[\"Purchase_Value\"],color=\"#b20710\")\n",
    "\n",
    "fig.patch.set_facecolor('#f6f5f5')\n",
    "\n",
    "ax.set_xlim(10000, 80000)\n",
    "\n",
    "ax.set_facecolor('#f5f6f6')\n",
    "for loc in ['right', 'top']:\n",
    "    ax.spines[loc].set_visible(False)\n",
    " \n",
    "fig.text(0.2,1,\"Plotting Quantity Against Purchase Spending\",**{'font':'serif', 'size':18,'weight':'bold'}, alpha = 1)\n",
    "fig.text(0.1,0.90,\"It seems like there are already some clusters :\",**{'font':'serif', 'size':14,}, alpha = 1)\n",
    "\n",
    "\n",
    "plt.show()"
   ]
  },
  {
   "cell_type": "code",
   "execution_count": null,
   "id": "09f66952-44de-42a4-b3cb-201b49ab8a28",
   "metadata": {
    "tags": []
   },
   "outputs": [],
   "source": [
    "## Selecting the optimal number of clusters \n",
    "wcss = []\n",
    "for i in range(1, 11):\n",
    "    km = KMeans(n_clusters = i, init = 'k-means++', max_iter = 300, n_init = 10, random_state = 0)\n",
    "    km.fit(x)\n",
    "    wcss.append(km.inertia_)\n",
    "fig=plt.figure(figsize=(10,6))  \n",
    "fig.patch.set_facecolor('#f6f5f5')\n",
    "\n",
    "plt.plot(range(1, 11), wcss)\n",
    "plt.title('The Elbow Method', fontsize = 20)\n",
    "plt.xlabel('No. of Clusters')\n",
    "plt.ylabel('wcss')\n",
    "fig.text(0.5,0.4,\"The best k-value is 5\")\n",
    "plt.show()"
   ]
  },
  {
   "cell_type": "code",
   "execution_count": null,
   "id": "7dbb7263-aa4b-4517-9b4f-080fd1ed86ee",
   "metadata": {
    "tags": []
   },
   "outputs": [],
   "source": [
    "## Optimal number of Clusters is 5, we create the clusters.\n",
    "km = KMeans(n_clusters = 5, init = 'k-means++', max_iter = 300, n_init = 10, random_state = 0)\n",
    "y_means = km.fit_predict(x)"
   ]
  },
  {
   "cell_type": "code",
   "execution_count": null,
   "id": "40818a79-cac9-474b-a6df-a220ab207a8f",
   "metadata": {
    "tags": []
   },
   "outputs": [],
   "source": [
    "##Creating a data frame that contains the different clusters \n",
    "cluster = pd.Series(y_means, name='Cluster')\n",
    "clustered_cus = pd.concat([Customer, cluster], axis=1)"
   ]
  },
  {
   "cell_type": "code",
   "execution_count": null,
   "id": "2457cf0f-ec66-457a-8dc3-791dd9c10f24",
   "metadata": {
    "tags": []
   },
   "outputs": [],
   "source": [
    "## Changing the Tiers of the cluster to better represent them\n",
    "# Diamond,Platinum,Gold,Silver, Bronze\n",
    "clustered_cus['Cluster'].replace({0:'Bronze', 1:'Diamond', 2:'Platinum', 3:'Gold',\n",
    "                                                           4:'Silver'}, inplace=True)\n"
   ]
  },
  {
   "cell_type": "code",
   "execution_count": null,
   "id": "209a8f93-9a0e-47d8-8807-6e775c70b3ba",
   "metadata": {
    "tags": []
   },
   "outputs": [],
   "source": [
    "plt.figure(figsize=(10,6))\n",
    "ax5 = sns.countplot(clustered_cus, y='Cluster')\n",
    "ax5.grid(True, linestyle='--', alpha=0.5)\n",
    "\n",
    "plt.title('Number of customers in each class')\n",
    "print('Total number of customers in each cluster:',clustered_cus['Cluster'].value_counts())"
   ]
  },
  {
   "cell_type": "code",
   "execution_count": null,
   "id": "40df5f5e-1e50-4857-98fb-243a64157f6c",
   "metadata": {},
   "outputs": [],
   "source": []
  }
 ],
 "metadata": {
  "kernelspec": {
   "display_name": "Python 3 (ipykernel)",
   "language": "python",
   "name": "python3"
  },
  "language_info": {
   "codemirror_mode": {
    "name": "ipython",
    "version": 3
   },
   "file_extension": ".py",
   "mimetype": "text/x-python",
   "name": "python",
   "nbconvert_exporter": "python",
   "pygments_lexer": "ipython3",
   "version": "3.11.3"
  }
 },
 "nbformat": 4,
 "nbformat_minor": 5
}
